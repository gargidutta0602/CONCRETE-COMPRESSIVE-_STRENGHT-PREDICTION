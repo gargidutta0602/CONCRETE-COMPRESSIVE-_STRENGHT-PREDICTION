{
 "cells": [
  {
   "cell_type": "code",
   "execution_count": 132,
   "id": "46d28c99",
   "metadata": {},
   "outputs": [],
   "source": [
    "import pandas as pd \n",
    "import numpy as np\n",
    "import seaborn as sns\n",
    "import matplotlib.pyplot as plt\n",
    "from pandas_profiling import ProfileReport                          # Import Pandas Profiling (To generate Univariate Analysis) "
   ]
  },
  {
   "cell_type": "code",
   "execution_count": 133,
   "id": "bc1ab9d4",
   "metadata": {},
   "outputs": [],
   "source": [
    "data_train = pd.read_csv(\"C:/DS/Term Projects/New folder/concrete_train.csv\")\n",
    "data_test = pd.read_csv(\"C:/DS/Term Projects/New folder/concrete_test.csv\")"
   ]
  },
  {
   "cell_type": "code",
   "execution_count": 134,
   "id": "666146a0",
   "metadata": {},
   "outputs": [
    {
     "data": {
      "text/html": [
       "<div>\n",
       "<style scoped>\n",
       "    .dataframe tbody tr th:only-of-type {\n",
       "        vertical-align: middle;\n",
       "    }\n",
       "\n",
       "    .dataframe tbody tr th {\n",
       "        vertical-align: top;\n",
       "    }\n",
       "\n",
       "    .dataframe thead th {\n",
       "        text-align: right;\n",
       "    }\n",
       "</style>\n",
       "<table border=\"1\" class=\"dataframe\">\n",
       "  <thead>\n",
       "    <tr style=\"text-align: right;\">\n",
       "      <th></th>\n",
       "      <th>Id</th>\n",
       "      <th>cement</th>\n",
       "      <th>slag</th>\n",
       "      <th>flyash</th>\n",
       "      <th>water</th>\n",
       "      <th>superplasticizer</th>\n",
       "      <th>coarseaggregate</th>\n",
       "      <th>fineaggregate</th>\n",
       "      <th>age</th>\n",
       "      <th>csMPa</th>\n",
       "    </tr>\n",
       "  </thead>\n",
       "  <tbody>\n",
       "    <tr>\n",
       "      <th>0</th>\n",
       "      <td>995</td>\n",
       "      <td>158.6</td>\n",
       "      <td>148.9</td>\n",
       "      <td>116.0</td>\n",
       "      <td>175.1</td>\n",
       "      <td>15.0</td>\n",
       "      <td>953.3</td>\n",
       "      <td>719.7</td>\n",
       "      <td>28</td>\n",
       "      <td>27.68</td>\n",
       "    </tr>\n",
       "    <tr>\n",
       "      <th>1</th>\n",
       "      <td>507</td>\n",
       "      <td>424.0</td>\n",
       "      <td>22.0</td>\n",
       "      <td>132.0</td>\n",
       "      <td>178.0</td>\n",
       "      <td>8.5</td>\n",
       "      <td>822.0</td>\n",
       "      <td>750.0</td>\n",
       "      <td>28</td>\n",
       "      <td>62.05</td>\n",
       "    </tr>\n",
       "    <tr>\n",
       "      <th>2</th>\n",
       "      <td>334</td>\n",
       "      <td>275.1</td>\n",
       "      <td>0.0</td>\n",
       "      <td>121.4</td>\n",
       "      <td>159.5</td>\n",
       "      <td>9.9</td>\n",
       "      <td>1053.6</td>\n",
       "      <td>777.5</td>\n",
       "      <td>3</td>\n",
       "      <td>23.80</td>\n",
       "    </tr>\n",
       "    <tr>\n",
       "      <th>3</th>\n",
       "      <td>848</td>\n",
       "      <td>252.0</td>\n",
       "      <td>97.0</td>\n",
       "      <td>76.0</td>\n",
       "      <td>194.0</td>\n",
       "      <td>8.0</td>\n",
       "      <td>835.0</td>\n",
       "      <td>821.0</td>\n",
       "      <td>28</td>\n",
       "      <td>33.40</td>\n",
       "    </tr>\n",
       "    <tr>\n",
       "      <th>4</th>\n",
       "      <td>294</td>\n",
       "      <td>168.9</td>\n",
       "      <td>42.2</td>\n",
       "      <td>124.3</td>\n",
       "      <td>158.3</td>\n",
       "      <td>10.8</td>\n",
       "      <td>1080.8</td>\n",
       "      <td>796.2</td>\n",
       "      <td>3</td>\n",
       "      <td>7.40</td>\n",
       "    </tr>\n",
       "  </tbody>\n",
       "</table>\n",
       "</div>"
      ],
      "text/plain": [
       "    Id  cement   slag  flyash  water  superplasticizer  coarseaggregate  \\\n",
       "0  995   158.6  148.9   116.0  175.1              15.0            953.3   \n",
       "1  507   424.0   22.0   132.0  178.0               8.5            822.0   \n",
       "2  334   275.1    0.0   121.4  159.5               9.9           1053.6   \n",
       "3  848   252.0   97.0    76.0  194.0               8.0            835.0   \n",
       "4  294   168.9   42.2   124.3  158.3              10.8           1080.8   \n",
       "\n",
       "   fineaggregate  age  csMPa  \n",
       "0          719.7   28  27.68  \n",
       "1          750.0   28  62.05  \n",
       "2          777.5    3  23.80  \n",
       "3          821.0   28  33.40  \n",
       "4          796.2    3   7.40  "
      ]
     },
     "execution_count": 134,
     "metadata": {},
     "output_type": "execute_result"
    }
   ],
   "source": [
    "data_train.head()"
   ]
  },
  {
   "cell_type": "code",
   "execution_count": 135,
   "id": "8be75632",
   "metadata": {},
   "outputs": [
    {
     "name": "stdout",
     "output_type": "stream",
     "text": [
      "<class 'pandas.core.frame.DataFrame'>\n",
      "RangeIndex: 824 entries, 0 to 823\n",
      "Data columns (total 10 columns):\n",
      " #   Column            Non-Null Count  Dtype  \n",
      "---  ------            --------------  -----  \n",
      " 0   Id                824 non-null    int64  \n",
      " 1   cement            824 non-null    float64\n",
      " 2   slag              824 non-null    float64\n",
      " 3   flyash            824 non-null    float64\n",
      " 4   water             824 non-null    float64\n",
      " 5   superplasticizer  824 non-null    float64\n",
      " 6   coarseaggregate   824 non-null    float64\n",
      " 7   fineaggregate     824 non-null    float64\n",
      " 8   age               824 non-null    int64  \n",
      " 9   csMPa             824 non-null    float64\n",
      "dtypes: float64(8), int64(2)\n",
      "memory usage: 64.5 KB\n"
     ]
    }
   ],
   "source": [
    "data_train.info()"
   ]
  },
  {
   "cell_type": "code",
   "execution_count": 136,
   "id": "30ca2dbc",
   "metadata": {},
   "outputs": [
    {
     "data": {
      "text/html": [
       "<div>\n",
       "<style scoped>\n",
       "    .dataframe tbody tr th:only-of-type {\n",
       "        vertical-align: middle;\n",
       "    }\n",
       "\n",
       "    .dataframe tbody tr th {\n",
       "        vertical-align: top;\n",
       "    }\n",
       "\n",
       "    .dataframe thead th {\n",
       "        text-align: right;\n",
       "    }\n",
       "</style>\n",
       "<table border=\"1\" class=\"dataframe\">\n",
       "  <thead>\n",
       "    <tr style=\"text-align: right;\">\n",
       "      <th></th>\n",
       "      <th>Id</th>\n",
       "      <th>cement</th>\n",
       "      <th>slag</th>\n",
       "      <th>flyash</th>\n",
       "      <th>water</th>\n",
       "      <th>superplasticizer</th>\n",
       "      <th>coarseaggregate</th>\n",
       "      <th>fineaggregate</th>\n",
       "      <th>age</th>\n",
       "      <th>csMPa</th>\n",
       "    </tr>\n",
       "  </thead>\n",
       "  <tbody>\n",
       "    <tr>\n",
       "      <th>count</th>\n",
       "      <td>824.000000</td>\n",
       "      <td>824.000000</td>\n",
       "      <td>824.000000</td>\n",
       "      <td>824.000000</td>\n",
       "      <td>824.000000</td>\n",
       "      <td>824.000000</td>\n",
       "      <td>824.000000</td>\n",
       "      <td>824.000000</td>\n",
       "      <td>824.000000</td>\n",
       "      <td>824.000000</td>\n",
       "    </tr>\n",
       "    <tr>\n",
       "      <th>mean</th>\n",
       "      <td>513.847087</td>\n",
       "      <td>283.360801</td>\n",
       "      <td>74.371602</td>\n",
       "      <td>53.160801</td>\n",
       "      <td>181.797087</td>\n",
       "      <td>6.163956</td>\n",
       "      <td>973.548544</td>\n",
       "      <td>772.107403</td>\n",
       "      <td>44.661408</td>\n",
       "      <td>35.857864</td>\n",
       "    </tr>\n",
       "    <tr>\n",
       "      <th>std</th>\n",
       "      <td>296.786779</td>\n",
       "      <td>107.536404</td>\n",
       "      <td>86.977784</td>\n",
       "      <td>64.000646</td>\n",
       "      <td>21.321905</td>\n",
       "      <td>5.967258</td>\n",
       "      <td>78.694630</td>\n",
       "      <td>80.984717</td>\n",
       "      <td>60.475702</td>\n",
       "      <td>16.865099</td>\n",
       "    </tr>\n",
       "    <tr>\n",
       "      <th>min</th>\n",
       "      <td>0.000000</td>\n",
       "      <td>102.000000</td>\n",
       "      <td>0.000000</td>\n",
       "      <td>0.000000</td>\n",
       "      <td>121.800000</td>\n",
       "      <td>0.000000</td>\n",
       "      <td>801.000000</td>\n",
       "      <td>594.000000</td>\n",
       "      <td>1.000000</td>\n",
       "      <td>2.330000</td>\n",
       "    </tr>\n",
       "    <tr>\n",
       "      <th>25%</th>\n",
       "      <td>251.750000</td>\n",
       "      <td>192.000000</td>\n",
       "      <td>0.000000</td>\n",
       "      <td>0.000000</td>\n",
       "      <td>164.900000</td>\n",
       "      <td>0.000000</td>\n",
       "      <td>932.000000</td>\n",
       "      <td>726.775000</td>\n",
       "      <td>12.250000</td>\n",
       "      <td>23.685000</td>\n",
       "    </tr>\n",
       "    <tr>\n",
       "      <th>50%</th>\n",
       "      <td>513.500000</td>\n",
       "      <td>275.100000</td>\n",
       "      <td>22.000000</td>\n",
       "      <td>0.000000</td>\n",
       "      <td>185.350000</td>\n",
       "      <td>6.100000</td>\n",
       "      <td>968.000000</td>\n",
       "      <td>778.500000</td>\n",
       "      <td>28.000000</td>\n",
       "      <td>34.080000</td>\n",
       "    </tr>\n",
       "    <tr>\n",
       "      <th>75%</th>\n",
       "      <td>770.250000</td>\n",
       "      <td>359.900000</td>\n",
       "      <td>144.775000</td>\n",
       "      <td>118.300000</td>\n",
       "      <td>192.000000</td>\n",
       "      <td>10.125000</td>\n",
       "      <td>1040.600000</td>\n",
       "      <td>821.250000</td>\n",
       "      <td>56.000000</td>\n",
       "      <td>45.862500</td>\n",
       "    </tr>\n",
       "    <tr>\n",
       "      <th>max</th>\n",
       "      <td>1028.000000</td>\n",
       "      <td>540.000000</td>\n",
       "      <td>359.400000</td>\n",
       "      <td>195.000000</td>\n",
       "      <td>247.000000</td>\n",
       "      <td>32.200000</td>\n",
       "      <td>1145.000000</td>\n",
       "      <td>992.600000</td>\n",
       "      <td>365.000000</td>\n",
       "      <td>82.600000</td>\n",
       "    </tr>\n",
       "  </tbody>\n",
       "</table>\n",
       "</div>"
      ],
      "text/plain": [
       "                Id      cement        slag      flyash       water  \\\n",
       "count   824.000000  824.000000  824.000000  824.000000  824.000000   \n",
       "mean    513.847087  283.360801   74.371602   53.160801  181.797087   \n",
       "std     296.786779  107.536404   86.977784   64.000646   21.321905   \n",
       "min       0.000000  102.000000    0.000000    0.000000  121.800000   \n",
       "25%     251.750000  192.000000    0.000000    0.000000  164.900000   \n",
       "50%     513.500000  275.100000   22.000000    0.000000  185.350000   \n",
       "75%     770.250000  359.900000  144.775000  118.300000  192.000000   \n",
       "max    1028.000000  540.000000  359.400000  195.000000  247.000000   \n",
       "\n",
       "       superplasticizer  coarseaggregate  fineaggregate         age  \\\n",
       "count        824.000000       824.000000     824.000000  824.000000   \n",
       "mean           6.163956       973.548544     772.107403   44.661408   \n",
       "std            5.967258        78.694630      80.984717   60.475702   \n",
       "min            0.000000       801.000000     594.000000    1.000000   \n",
       "25%            0.000000       932.000000     726.775000   12.250000   \n",
       "50%            6.100000       968.000000     778.500000   28.000000   \n",
       "75%           10.125000      1040.600000     821.250000   56.000000   \n",
       "max           32.200000      1145.000000     992.600000  365.000000   \n",
       "\n",
       "            csMPa  \n",
       "count  824.000000  \n",
       "mean    35.857864  \n",
       "std     16.865099  \n",
       "min      2.330000  \n",
       "25%     23.685000  \n",
       "50%     34.080000  \n",
       "75%     45.862500  \n",
       "max     82.600000  "
      ]
     },
     "execution_count": 136,
     "metadata": {},
     "output_type": "execute_result"
    }
   ],
   "source": [
    "data_train.describe()"
   ]
  },
  {
   "cell_type": "code",
   "execution_count": 137,
   "id": "1e8f5ab8",
   "metadata": {},
   "outputs": [
    {
     "data": {
      "text/html": [
       "<div>\n",
       "<style scoped>\n",
       "    .dataframe tbody tr th:only-of-type {\n",
       "        vertical-align: middle;\n",
       "    }\n",
       "\n",
       "    .dataframe tbody tr th {\n",
       "        vertical-align: top;\n",
       "    }\n",
       "\n",
       "    .dataframe thead th {\n",
       "        text-align: right;\n",
       "    }\n",
       "</style>\n",
       "<table border=\"1\" class=\"dataframe\">\n",
       "  <thead>\n",
       "    <tr style=\"text-align: right;\">\n",
       "      <th></th>\n",
       "      <th>Id</th>\n",
       "      <th>cement</th>\n",
       "      <th>slag</th>\n",
       "      <th>flyash</th>\n",
       "      <th>water</th>\n",
       "      <th>superplasticizer</th>\n",
       "      <th>coarseaggregate</th>\n",
       "      <th>fineaggregate</th>\n",
       "      <th>age</th>\n",
       "      <th>csMPa</th>\n",
       "    </tr>\n",
       "  </thead>\n",
       "  <tbody>\n",
       "    <tr>\n",
       "      <th>0</th>\n",
       "      <td>995</td>\n",
       "      <td>158.6</td>\n",
       "      <td>148.9</td>\n",
       "      <td>116.0</td>\n",
       "      <td>175.1</td>\n",
       "      <td>15.0</td>\n",
       "      <td>953.3</td>\n",
       "      <td>719.7</td>\n",
       "      <td>28</td>\n",
       "      <td>27.68</td>\n",
       "    </tr>\n",
       "    <tr>\n",
       "      <th>1</th>\n",
       "      <td>507</td>\n",
       "      <td>424.0</td>\n",
       "      <td>22.0</td>\n",
       "      <td>132.0</td>\n",
       "      <td>178.0</td>\n",
       "      <td>8.5</td>\n",
       "      <td>822.0</td>\n",
       "      <td>750.0</td>\n",
       "      <td>28</td>\n",
       "      <td>62.05</td>\n",
       "    </tr>\n",
       "    <tr>\n",
       "      <th>2</th>\n",
       "      <td>334</td>\n",
       "      <td>275.1</td>\n",
       "      <td>0.0</td>\n",
       "      <td>121.4</td>\n",
       "      <td>159.5</td>\n",
       "      <td>9.9</td>\n",
       "      <td>1053.6</td>\n",
       "      <td>777.5</td>\n",
       "      <td>3</td>\n",
       "      <td>23.80</td>\n",
       "    </tr>\n",
       "    <tr>\n",
       "      <th>3</th>\n",
       "      <td>848</td>\n",
       "      <td>252.0</td>\n",
       "      <td>97.0</td>\n",
       "      <td>76.0</td>\n",
       "      <td>194.0</td>\n",
       "      <td>8.0</td>\n",
       "      <td>835.0</td>\n",
       "      <td>821.0</td>\n",
       "      <td>28</td>\n",
       "      <td>33.40</td>\n",
       "    </tr>\n",
       "    <tr>\n",
       "      <th>4</th>\n",
       "      <td>294</td>\n",
       "      <td>168.9</td>\n",
       "      <td>42.2</td>\n",
       "      <td>124.3</td>\n",
       "      <td>158.3</td>\n",
       "      <td>10.8</td>\n",
       "      <td>1080.8</td>\n",
       "      <td>796.2</td>\n",
       "      <td>3</td>\n",
       "      <td>7.40</td>\n",
       "    </tr>\n",
       "    <tr>\n",
       "      <th>...</th>\n",
       "      <td>...</td>\n",
       "      <td>...</td>\n",
       "      <td>...</td>\n",
       "      <td>...</td>\n",
       "      <td>...</td>\n",
       "      <td>...</td>\n",
       "      <td>...</td>\n",
       "      <td>...</td>\n",
       "      <td>...</td>\n",
       "      <td>...</td>\n",
       "    </tr>\n",
       "    <tr>\n",
       "      <th>819</th>\n",
       "      <td>87</td>\n",
       "      <td>286.3</td>\n",
       "      <td>200.9</td>\n",
       "      <td>0.0</td>\n",
       "      <td>144.7</td>\n",
       "      <td>11.2</td>\n",
       "      <td>1004.6</td>\n",
       "      <td>803.7</td>\n",
       "      <td>3</td>\n",
       "      <td>24.40</td>\n",
       "    </tr>\n",
       "    <tr>\n",
       "      <th>820</th>\n",
       "      <td>330</td>\n",
       "      <td>246.8</td>\n",
       "      <td>0.0</td>\n",
       "      <td>125.1</td>\n",
       "      <td>143.3</td>\n",
       "      <td>12.0</td>\n",
       "      <td>1086.8</td>\n",
       "      <td>800.9</td>\n",
       "      <td>14</td>\n",
       "      <td>42.22</td>\n",
       "    </tr>\n",
       "    <tr>\n",
       "      <th>821</th>\n",
       "      <td>466</td>\n",
       "      <td>190.3</td>\n",
       "      <td>0.0</td>\n",
       "      <td>125.2</td>\n",
       "      <td>166.6</td>\n",
       "      <td>9.9</td>\n",
       "      <td>1079.0</td>\n",
       "      <td>798.9</td>\n",
       "      <td>100</td>\n",
       "      <td>33.56</td>\n",
       "    </tr>\n",
       "    <tr>\n",
       "      <th>822</th>\n",
       "      <td>121</td>\n",
       "      <td>475.0</td>\n",
       "      <td>118.8</td>\n",
       "      <td>0.0</td>\n",
       "      <td>181.1</td>\n",
       "      <td>8.9</td>\n",
       "      <td>852.1</td>\n",
       "      <td>781.5</td>\n",
       "      <td>28</td>\n",
       "      <td>68.30</td>\n",
       "    </tr>\n",
       "    <tr>\n",
       "      <th>823</th>\n",
       "      <td>860</td>\n",
       "      <td>314.0</td>\n",
       "      <td>0.0</td>\n",
       "      <td>113.0</td>\n",
       "      <td>170.0</td>\n",
       "      <td>10.0</td>\n",
       "      <td>925.0</td>\n",
       "      <td>783.0</td>\n",
       "      <td>28</td>\n",
       "      <td>38.46</td>\n",
       "    </tr>\n",
       "  </tbody>\n",
       "</table>\n",
       "<p>824 rows × 10 columns</p>\n",
       "</div>"
      ],
      "text/plain": [
       "      Id  cement   slag  flyash  water  superplasticizer  coarseaggregate  \\\n",
       "0    995   158.6  148.9   116.0  175.1              15.0            953.3   \n",
       "1    507   424.0   22.0   132.0  178.0               8.5            822.0   \n",
       "2    334   275.1    0.0   121.4  159.5               9.9           1053.6   \n",
       "3    848   252.0   97.0    76.0  194.0               8.0            835.0   \n",
       "4    294   168.9   42.2   124.3  158.3              10.8           1080.8   \n",
       "..   ...     ...    ...     ...    ...               ...              ...   \n",
       "819   87   286.3  200.9     0.0  144.7              11.2           1004.6   \n",
       "820  330   246.8    0.0   125.1  143.3              12.0           1086.8   \n",
       "821  466   190.3    0.0   125.2  166.6               9.9           1079.0   \n",
       "822  121   475.0  118.8     0.0  181.1               8.9            852.1   \n",
       "823  860   314.0    0.0   113.0  170.0              10.0            925.0   \n",
       "\n",
       "     fineaggregate  age  csMPa  \n",
       "0            719.7   28  27.68  \n",
       "1            750.0   28  62.05  \n",
       "2            777.5    3  23.80  \n",
       "3            821.0   28  33.40  \n",
       "4            796.2    3   7.40  \n",
       "..             ...  ...    ...  \n",
       "819          803.7    3  24.40  \n",
       "820          800.9   14  42.22  \n",
       "821          798.9  100  33.56  \n",
       "822          781.5   28  68.30  \n",
       "823          783.0   28  38.46  \n",
       "\n",
       "[824 rows x 10 columns]"
      ]
     },
     "execution_count": 137,
     "metadata": {},
     "output_type": "execute_result"
    }
   ],
   "source": [
    "data_train.drop_duplicates()"
   ]
  },
  {
   "cell_type": "code",
   "execution_count": 138,
   "id": "e878eeb7",
   "metadata": {},
   "outputs": [
    {
     "data": {
      "text/plain": [
       "Id                  0\n",
       "cement              0\n",
       "slag                0\n",
       "flyash              0\n",
       "water               0\n",
       "superplasticizer    0\n",
       "coarseaggregate     0\n",
       "fineaggregate       0\n",
       "age                 0\n",
       "csMPa               0\n",
       "dtype: int64"
      ]
     },
     "execution_count": 138,
     "metadata": {},
     "output_type": "execute_result"
    }
   ],
   "source": [
    "data_train.isnull().sum()"
   ]
  },
  {
   "cell_type": "code",
   "execution_count": 139,
   "id": "bd0d4b08",
   "metadata": {},
   "outputs": [
    {
     "name": "stdout",
     "output_type": "stream",
     "text": [
      "<class 'pandas.core.frame.DataFrame'>\n",
      "RangeIndex: 206 entries, 0 to 205\n",
      "Data columns (total 9 columns):\n",
      " #   Column            Non-Null Count  Dtype  \n",
      "---  ------            --------------  -----  \n",
      " 0   Id                206 non-null    int64  \n",
      " 1   cement            206 non-null    float64\n",
      " 2   slag              206 non-null    float64\n",
      " 3   flyash            206 non-null    float64\n",
      " 4   water             206 non-null    float64\n",
      " 5   superplasticizer  206 non-null    float64\n",
      " 6   coarseaggregate   206 non-null    float64\n",
      " 7   fineaggregate     206 non-null    float64\n",
      " 8   age               206 non-null    int64  \n",
      "dtypes: float64(7), int64(2)\n",
      "memory usage: 14.6 KB\n"
     ]
    }
   ],
   "source": [
    "data_test.info()"
   ]
  },
  {
   "cell_type": "code",
   "execution_count": 140,
   "id": "8520eb38",
   "metadata": {},
   "outputs": [
    {
     "data": {
      "text/plain": [
       "Id                  0\n",
       "cement              0\n",
       "slag                0\n",
       "flyash              0\n",
       "water               0\n",
       "superplasticizer    0\n",
       "coarseaggregate     0\n",
       "fineaggregate       0\n",
       "age                 0\n",
       "dtype: int64"
      ]
     },
     "execution_count": 140,
     "metadata": {},
     "output_type": "execute_result"
    }
   ],
   "source": [
    "data_test.isnull().sum()"
   ]
  },
  {
   "cell_type": "code",
   "execution_count": 141,
   "id": "f523ecaa",
   "metadata": {},
   "outputs": [],
   "source": [
    "data1_train = data_train.copy()"
   ]
  },
  {
   "cell_type": "code",
   "execution_count": 142,
   "id": "7ba6dc47",
   "metadata": {},
   "outputs": [],
   "source": [
    "data1_train.drop(axis=0,columns='Id',inplace = True)"
   ]
  },
  {
   "cell_type": "code",
   "execution_count": 143,
   "id": "338af41f",
   "metadata": {},
   "outputs": [
    {
     "name": "stdout",
     "output_type": "stream",
     "text": [
      "<class 'pandas.core.frame.DataFrame'>\n",
      "RangeIndex: 824 entries, 0 to 823\n",
      "Data columns (total 9 columns):\n",
      " #   Column            Non-Null Count  Dtype  \n",
      "---  ------            --------------  -----  \n",
      " 0   cement            824 non-null    float64\n",
      " 1   slag              824 non-null    float64\n",
      " 2   flyash            824 non-null    float64\n",
      " 3   water             824 non-null    float64\n",
      " 4   superplasticizer  824 non-null    float64\n",
      " 5   coarseaggregate   824 non-null    float64\n",
      " 6   fineaggregate     824 non-null    float64\n",
      " 7   age               824 non-null    int64  \n",
      " 8   csMPa             824 non-null    float64\n",
      "dtypes: float64(8), int64(1)\n",
      "memory usage: 58.1 KB\n"
     ]
    }
   ],
   "source": [
    "data1_train.info()"
   ]
  },
  {
   "cell_type": "code",
   "execution_count": 144,
   "id": "244a20d5",
   "metadata": {},
   "outputs": [
    {
     "data": {
      "text/plain": [
       "<AxesSubplot:>"
      ]
     },
     "execution_count": 144,
     "metadata": {},
     "output_type": "execute_result"
    },
    {
     "data": {
      "image/png": "[encoded data removed]",
      "text/plain": [
       "<Figure size 1000x1000 with 2 Axes>"
      ]
     },
     "metadata": {},
     "output_type": "display_data"
    }
   ],
   "source": [
    "corr_mat = data1_train.corr().round(2)\n",
    "plt.figure(figsize=(10,10))\n",
    "sns.heatmap(corr_mat, annot=True)"
   ]
  },
  {
   "cell_type": "code",
   "execution_count": 145,
   "id": "1423bbed",
   "metadata": {},
   "outputs": [
    {
     "data": {
      "application/vnd.jupyter.widget-view+json": {
       "model_id": "6ea4dd3b92ab43bcbb5a348366a3e465",
       "version_major": 2,
       "version_minor": 0
      },
      "text/plain": [
       "Summarize dataset:   0%|          | 0/5 [00:00<?, ?it/s]"
      ]
     },
     "metadata": {},
     "output_type": "display_data"
    },
    {
     "data": {
      "application/vnd.jupyter.widget-view+json": {
       "model_id": "c6f9d6dee6c0450eaadd317664f1c60a",
       "version_major": 2,
       "version_minor": 0
      },
      "text/plain": [
       "Generate report structure:   0%|          | 0/1 [00:00<?, ?it/s]"
      ]
     },
     "metadata": {},
     "output_type": "display_data"
    },
    {
     "data": {
      "application/vnd.jupyter.widget-view+json": {
       "model_id": "52d4d2c51c424e179c2d54a4ac6ed1a3",
       "version_major": 2,
       "version_minor": 0
      },
      "text/plain": [
       "Render HTML:   0%|          | 0/1 [00:00<?, ?it/s]"
      ]
     },
     "metadata": {},
     "output_type": "display_data"
    },
    {
     "data": {
      "application/vnd.jupyter.widget-view+json": {
       "model_id": "318a618027014401a37241424fbb4438",
       "version_major": 2,
       "version_minor": 0
      },
      "text/plain": [
       "Export report to file:   0%|          | 0/1 [00:00<?, ?it/s]"
      ]
     },
     "metadata": {},
     "output_type": "display_data"
    },
    {
     "name": "stdout",
     "output_type": "stream",
     "text": [
      "Accomplished!\n"
     ]
    }
   ],
   "source": [
    "profile = ProfileReport(df = data_train)\n",
    "profile.to_file(output_file = 'Pre Profiling Report.html')\n",
    "print('Accomplished!')"
   ]
  },
  {
   "cell_type": "code",
   "execution_count": 146,
   "id": "621b639e",
   "metadata": {},
   "outputs": [
    {
     "ename": "SyntaxError",
     "evalue": "invalid syntax (1056806217.py, line 1)",
     "output_type": "error",
     "traceback": [
      "\u001b[1;36m  Input \u001b[1;32mIn [146]\u001b[1;36m\u001b[0m\n\u001b[1;33m    y = data_train['csMPa']x = data_train.drop('csMPa', axis = 1)\u001b[0m\n\u001b[1;37m                           ^\u001b[0m\n\u001b[1;31mSyntaxError\u001b[0m\u001b[1;31m:\u001b[0m invalid syntax\n"
     ]
    }
   ],
   "source": [
    "y = data_train['csMPa']x = data_train.drop('csMPa', axis = 1)"
   ]
  },
  {
   "cell_type": "code",
   "execution_count": null,
   "id": "e60f527e",
   "metadata": {},
   "outputs": [],
   "source": [
    "x = data_train.drop('csMPa', axis = 1)"
   ]
  },
  {
   "cell_type": "markdown",
   "id": "39f8a724",
   "metadata": {},
   "source": [
    "# Train Test Split\n"
   ]
  },
  {
   "cell_type": "code",
   "execution_count": null,
   "id": "f75a58e1",
   "metadata": {},
   "outputs": [],
   "source": [
    "from sklearn.model_selection import train_test_split\n",
    "X_train,X_test, Y_train, Y_test = train_test_split(x,y,test_size=0.2, random_state=42)"
   ]
  },
  {
   "cell_type": "code",
   "execution_count": null,
   "id": "78271e5d",
   "metadata": {},
   "outputs": [],
   "source": [
    "X_train_cat = X_train.select_dtypes(include=['object'])\n",
    "X_train_cont = X_train.select_dtypes(exclude=['object'])"
   ]
  },
  {
   "cell_type": "code",
   "execution_count": null,
   "id": "a5137e24",
   "metadata": {},
   "outputs": [],
   "source": [
    "X_test_cat = X_test.select_dtypes(include=['object'])\n",
    "X_test_cont = X_test.select_dtypes(exclude=['object'])"
   ]
  },
  {
   "cell_type": "code",
   "execution_count": null,
   "id": "70fec7ca",
   "metadata": {},
   "outputs": [],
   "source": [
    "X_train.info()"
   ]
  },
  {
   "cell_type": "markdown",
   "id": "90c1c3a7",
   "metadata": {},
   "source": [
    "# Encoder and Scaler\n"
   ]
  },
  {
   "cell_type": "code",
   "execution_count": null,
   "id": "4744f423",
   "metadata": {},
   "outputs": [],
   "source": [
    "from sklearn.preprocessing import OneHotEncoder\n",
    "enc = OneHotEncoder(drop='first', sparse = False)\n",
    "enc.fit(X_train_cat)\n",
    "enc.categories_"
   ]
  },
  {
   "cell_type": "code",
   "execution_count": null,
   "id": "91dc0dff",
   "metadata": {},
   "outputs": [],
   "source": [
    "X_train_OHE = pd.DataFrame(enc.transform(X_train_cat), columns = enc.get_feature_names_out(X_train_cat.columns), index = X_train_cat.index)\n",
    "X_test_OHE = pd.DataFrame(enc.transform(X_test_cat), columns = enc.get_feature_names_out(X_train_cat.columns), index = X_test_cat.index)\n"
   ]
  },
  {
   "cell_type": "code",
   "execution_count": null,
   "id": "4c7aa273",
   "metadata": {},
   "outputs": [],
   "source": [
    "from sklearn.preprocessing import StandardScaler\n",
    "scaler = StandardScaler()\n",
    "scaler.fit(X_train_cont)\n",
    "\n",
    "X_train_s = pd.DataFrame(scaler.transform(X_train_cont), columns = X_train_cont.columns, index = X_train_cont.index)\n",
    "X_test_s = pd.DataFrame(scaler.transform(X_test_cont), columns = X_train_cont.columns, index = X_test_cont.index)"
   ]
  },
  {
   "cell_type": "markdown",
   "id": "780db0ea",
   "metadata": {},
   "source": [
    "# CONCAT"
   ]
  },
  {
   "cell_type": "code",
   "execution_count": null,
   "id": "88553105",
   "metadata": {},
   "outputs": [],
   "source": [
    "X_train_comb = pd.concat([X_train_OHE,X_train_s], axis=1)\n",
    "X_test_comb = pd.concat([X_test_OHE,X_test_s], axis=1)"
   ]
  },
  {
   "cell_type": "code",
   "execution_count": null,
   "id": "75780777",
   "metadata": {},
   "outputs": [],
   "source": [
    "from sklearn.ensemble import RandomForestRegressor\n",
    "regr = RandomForestRegressor()\n",
    "regr.fit(X_train_comb, Y_train)"
   ]
  },
  {
   "cell_type": "code",
   "execution_count": null,
   "id": "9c4d215c",
   "metadata": {},
   "outputs": [],
   "source": [
    "Y_pred_train = regr.predict(X_train_comb)\n",
    "Y_pred_test = regr.predict(X_test_comb)"
   ]
  },
  {
   "cell_type": "code",
   "execution_count": null,
   "id": "2dc2ceba",
   "metadata": {},
   "outputs": [],
   "source": [
    "from sklearn.metrics import mean_squared_error\n",
    "import math  "
   ]
  },
  {
   "cell_type": "code",
   "execution_count": null,
   "id": "672ee46c",
   "metadata": {},
   "outputs": [],
   "source": [
    "def model_evaluation(actual, predicted):\n",
    "    \n",
    "    MSE = mean_squared_error(actual,predicted)\n",
    "    RMSE = math.sqrt(MSE)  \n",
    "  \n",
    "    print(\"RMSE : \", round(RMSE,2))\n",
    "  "
   ]
  },
  {
   "cell_type": "code",
   "execution_count": null,
   "id": "8a60f766",
   "metadata": {},
   "outputs": [],
   "source": [
    "model_evaluation(Y_train, Y_pred_train)"
   ]
  },
  {
   "cell_type": "code",
   "execution_count": null,
   "id": "e805992d",
   "metadata": {},
   "outputs": [],
   "source": [
    "model_evaluation(Y_test, Y_pred_test)"
   ]
  },
  {
   "cell_type": "code",
   "execution_count": null,
   "id": "c3e91a8d",
   "metadata": {},
   "outputs": [],
   "source": [
    "from sklearn.ensemble import AdaBoostRegressor\n",
    "\n",
    "from sklearn.linear_model import LinearRegression\n",
    "lr = LinearRegression()\n",
    "\n",
    "regr_ADA = AdaBoostRegressor(base_estimator = lr, n_estimators=100)\n",
    "regr_ADA.fit(X_train_comb, Y_train)\n",
    "regr_ADA.predict(X_test_comb)"
   ]
  },
  {
   "cell_type": "code",
   "execution_count": null,
   "id": "3e502b5a",
   "metadata": {},
   "outputs": [],
   "source": [
    "Y_pred_train = regr.predict(X_train_comb)\n",
    "Y_pred_test = regr.predict(X_test_comb)"
   ]
  },
  {
   "cell_type": "code",
   "execution_count": null,
   "id": "1f0e96d0",
   "metadata": {},
   "outputs": [],
   "source": [
    "model_evaluation(Y_test, Y_pred_test)"
   ]
  },
  {
   "cell_type": "code",
   "execution_count": null,
   "id": "2c5b4748",
   "metadata": {},
   "outputs": [],
   "source": [
    "model_evaluation(Y_test, Y_pred_test)"
   ]
  },
  {
   "cell_type": "markdown",
   "id": "350e13cd",
   "metadata": {},
   "source": [
    "### Feature Selection**\n"
   ]
  },
  {
   "cell_type": "code",
   "execution_count": null,
   "id": "67ba5b8d",
   "metadata": {},
   "outputs": [],
   "source": [
    "quantile33 = data_train['csMPa'].quantile(0.33)\n",
    "quantile66 = data_train['csMPa'].quantile(0.66)\n",
    "quantile100 = data_train['csMPa'].quantile(1)\n",
    "\n",
    "data_train['csMPa_cat'] = pd.cut(data_train['csMPa'], bins=[0, quantile33, quantile66, quantile100], labels=['Low', 'Medium', 'High'])\n",
    "data_train.drop(labels='csMPa', axis=1,inplace = True)\n",
    "print(data_train['csMPa_cat'].value_counts())"
   ]
  },
  {
   "cell_type": "code",
   "execution_count": null,
   "id": "88520a9e",
   "metadata": {},
   "outputs": [],
   "source": [
    "y = data_train['csMPa_cat']\n",
    "X = data_train.drop('csMPa_cat', axis = 1)"
   ]
  },
  {
   "cell_type": "code",
   "execution_count": null,
   "id": "4d796023",
   "metadata": {},
   "outputs": [],
   "source": [
    "from sklearn.feature_selection import SelectFromModel\n",
    "from sklearn.ensemble import RandomForestClassifier\n"
   ]
  },
  {
   "cell_type": "code",
   "execution_count": null,
   "id": "a427557a",
   "metadata": {},
   "outputs": [],
   "source": [
    "selector = SelectFromModel(RandomForestClassifier(n_estimators = 100, random_state = 42, n_jobs = -1))\n",
    "selector.fit(X, y)\n",
    "\n",
    "# Extracting list of important features\n",
    "selected_feat = X.columns[(selector.get_support())].tolist()\n",
    "\n",
    "# Show total number of important features extracted by the model\n",
    "print('Total Features Selected are', len(selected_feat))\n",
    "\n",
    "# Estimated by taking mean(default) of feature importance\n",
    "print('Threshold set by Model:', np.round(selector.threshold_, decimals = 2))\n",
    "print('Important Features:', selected_feat)"
   ]
  },
  {
   "cell_type": "code",
   "execution_count": null,
   "id": "61aeadf3",
   "metadata": {},
   "outputs": [],
   "source": [
    "#figure = plt.figure(figsize = [15, 8])\n",
    "\n",
    "# If you don't want relative importance, use relative = False in below method\n",
    "#viz = FeatureImportances(selector.estimator, relative = False)\n",
    "#viz.fit(X, y)\n",
    "\n",
    "#plt.xlabel('Relative Importance', size = 14)\n",
    "#plt.ylabel('Features', size = 14)\n",
    "#plt.title(label = 'Feature Importances', size = 16)\n",
    "#plt.show()"
   ]
  },
  {
   "cell_type": "markdown",
   "id": "1b23d330",
   "metadata": {},
   "source": [
    "- Now we will **split** our **data** in **training** and **testing** part for further development."
   ]
  },
  {
   "cell_type": "code",
   "execution_count": null,
   "id": "e836b6ce",
   "metadata": {},
   "outputs": [],
   "source": [
    "X_train, X_test, y_train, y_test = train_test_split(X, y, test_size = 0.2, random_state = 42, stratify = y)\n"
   ]
  },
  {
   "cell_type": "code",
   "execution_count": null,
   "id": "757c5280",
   "metadata": {},
   "outputs": [],
   "source": [
    "from sklearn.linear_model import LogisticRegression\n",
    "from sklearn.tree import DecisionTreeClassifier\n",
    "from sklearn.svm import SVC\n",
    "from sklearn.ensemble import BaggingClassifier,VotingClassifier,AdaBoostClassifier,GradientBoostingClassifier"
   ]
  },
  {
   "cell_type": "code",
   "execution_count": null,
   "id": "ecda932d",
   "metadata": {},
   "outputs": [],
   "source": [
    "# Initialize classifiers\n",
    "log_clf = LogisticRegression(random_state = 42, class_weight='balanced')\n",
    "sv_clf = SVC(random_state=42, class_weight='balanced', probability=True)\n",
    "dt_clf = DecisionTreeClassifier(random_state = 42, class_weight='balanced')\n",
    "bag_clf = BaggingClassifier(base_estimator=dt_clf, n_estimators=500, n_jobs=-1, random_state=42)\n",
    "rf_clf = RandomForestClassifier(n_estimators=500, random_state = 42, class_weight='balanced', n_jobs=-1)\n",
    "voting_clf = VotingClassifier(estimators=[('lr', log_clf), ('rf', rf_clf), ('dt', dt_clf), ('svc', sv_clf)], voting='soft')\n",
    "ada_clf = AdaBoostClassifier(base_estimator=dt_clf, n_estimators=500, random_state=42)\n",
    "gb_clf = GradientBoostingClassifier(n_estimators=500, random_state = 42)"
   ]
  },
  {
   "cell_type": "code",
   "execution_count": null,
   "id": "a0b3f9dc",
   "metadata": {},
   "outputs": [],
   "source": [
    "%%time\n",
    "# Intialize a list of classifier objects\n",
    "clf_list = [log_clf, sv_clf, dt_clf, bag_clf, voting_clf, rf_clf, ada_clf, gb_clf]\n",
    "\n",
    "# Create an empty list to append scores and classifier name\n",
    "train_scores = []\n",
    "test_scores = []\n",
    "clf_names = []\n",
    "\n",
    "# Train classifier over train data and append scores to empty list\n",
    "for clf in clf_list:\n",
    "  # Fit the train data over the classifier object\n",
    "  clf.fit(X_train, y_train)\n",
    "\n",
    "  # Append train and test score to the empty list\n",
    "  train_scores.append(np.round(a=clf.score(X_train, y_train), decimals=2))\n",
    "  test_scores.append(np.round(a=clf.score(X_test, y_test), decimals=2))\n",
    "  clf_names.append(clf.__class__.__name__)\n",
    "\n",
    "print('Success!')"
   ]
  },
  {
   "cell_type": "code",
   "execution_count": null,
   "id": "bd0d4ea1",
   "metadata": {},
   "outputs": [],
   "source": [
    "# Create an accuracy dataframe from scores and names list\n",
    "accuracy_frame = pd.DataFrame(data={'Train Accuracy': train_scores, 'Test Accuracy': test_scores}, index=clf_names)\n",
    "\n",
    "# View the accuracy of all the classifiers\n",
    "accuracy_frame.transpose()"
   ]
  },
  {
   "cell_type": "code",
   "execution_count": null,
   "id": "0a2cb1fc",
   "metadata": {},
   "outputs": [],
   "source": [
    "data_test.info()"
   ]
  },
  {
   "cell_type": "code",
   "execution_count": null,
   "id": "0d2bac50",
   "metadata": {},
   "outputs": [],
   "source": [
    "pred_csMPa = regr.predict(data_test)"
   ]
  },
  {
   "cell_type": "code",
   "execution_count": null,
   "id": "cbc45eef",
   "metadata": {},
   "outputs": [],
   "source": [
    "df = pd.DataFrame(data = pred_csMPa)\n",
    "df.columns = ['csMpa']"
   ]
  },
  {
   "cell_type": "code",
   "execution_count": null,
   "id": "7bbf5945",
   "metadata": {},
   "outputs": [],
   "source": [
    "df.head()"
   ]
  },
  {
   "cell_type": "code",
   "execution_count": null,
   "id": "61b0c906",
   "metadata": {},
   "outputs": [],
   "source": [
    "submission_df = pd.DataFrame(data = data_test, columns = [\"Id\"])\n",
    "submission_df['csMpa'] = df['csMpa']"
   ]
  },
  {
   "cell_type": "code",
   "execution_count": null,
   "id": "fc14344d",
   "metadata": {},
   "outputs": [],
   "source": [
    "submission_df.head()"
   ]
  },
  {
   "cell_type": "code",
   "execution_count": null,
   "id": "94925a4a",
   "metadata": {},
   "outputs": [],
   "source": [
    "submission_df.to_csv(\"Submission.csv\", index = False, header = False)"
   ]
  },
  {
   "cell_type": "code",
   "execution_count": null,
   "id": "97707088",
   "metadata": {},
   "outputs": [],
   "source": []
  }
 ],
 "metadata": {
  "kernelspec": {
   "display_name": "Python 3 (ipykernel)",
   "language": "python",
   "name": "python3"
  },
  "language_info": {
   "codemirror_mode": {
    "name": "ipython",
    "version": 3
   },
   "file_extension": ".py",
   "mimetype": "text/x-python",
   "name": "python",
   "nbconvert_exporter": "python",
   "pygments_lexer": "ipython3",
   "version": "3.9.13"
  }
 },
 "nbformat": 4,
 "nbformat_minor": 5
}
